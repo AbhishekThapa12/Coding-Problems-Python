{
  "nbformat": 4,
  "nbformat_minor": 0,
  "metadata": {
    "colab": {
      "name": "Product_of_2Matrices_Python.ipynb",
      "provenance": [],
      "collapsed_sections": []
    },
    "kernelspec": {
      "name": "python3",
      "display_name": "Python 3"
    },
    "language_info": {
      "name": "python"
    }
  },
  "cells": [
    {
      "cell_type": "markdown",
      "source": [
        "# **Problem: Given two matrices please print the product of those two matrices** \n"
      ],
      "metadata": {
        "id": "5IS-xGeBwnOH"
      }
    },
    {
      "cell_type": "markdown",
      "source": [
        "## **Sample Cases :**\n",
        "\n",
        "<pre>\n",
        "\n",
        "Ex 1: A   = [[1 3 4]\n",
        "             [2 5 7]\n",
        "             [5 9 6]]\n",
        "      B   = [[1 0 0]\n",
        "             [0 1 0]\n",
        "             [0 0 1]]\n",
        "      A*B = [[1 3 4]\n",
        "             [2 5 7]\n",
        "             [5 9 6]]\n",
        "\n",
        "     \n",
        "Ex 2: A   = [[1 2]\n",
        "             [3 4]]\n",
        "      B   = [[1 2 3 4 5]\n",
        "             [5 6 7 8 9]]\n",
        "      A*B = [[11 14 17 20 23]\n",
        "             [23 30 36 42 51]]\n",
        "             \n",
        "Ex 3: A   = [[1 2]\n",
        "             [3 4]]\n",
        "      B   = [[1 4]\n",
        "             [5 6]\n",
        "             [7 8]\n",
        "             [9 6]]\n",
        "      A*B =Not possible\n",
        "</pre>"
      ],
      "metadata": {
        "id": "vQl-eg52zDSH"
      }
    },
    {
      "cell_type": "code",
      "execution_count": 18,
      "metadata": {
        "id": "YkXG392ot6fp"
      },
      "outputs": [],
      "source": [
        "A   = [[1, 2],\n",
        "       [3, 4]]\n",
        "\n",
        "B   = [[1, 4],\n",
        "       [5, 6],\n",
        "       [7, 8],\n",
        "       [9, 6]]"
      ]
    },
    {
      "cell_type": "markdown",
      "source": [
        "## **Let's break down our problem into Sub-Parts :**\n",
        "\n",
        "A) Construct an empty array/matrix for the resultant Product of A and B\n",
        "\n",
        "B) Check if product of A and B can be computed\n",
        "    \n",
        "  - If Yes => Continue\n",
        "  - If No => Return the message & end the program \n",
        "\n",
        "C) Create a Transpose Matrix of B, BT\n",
        "\n",
        "D) Compute the Product of Matrix A and B\n",
        "\n",
        "\n"
      ],
      "metadata": {
        "id": "eoAza5dNwlfn"
      }
    },
    {
      "cell_type": "markdown",
      "source": [
        "## **A) Construct an Empty Matrix for Product of A and B (A x B)**\n",
        "\n"
      ],
      "metadata": {
        "id": "JEFwM34Gx6-8"
      }
    },
    {
      "cell_type": "code",
      "source": [
        "# Compute the No. of Rows & Columns of Matrix, A and B\n",
        "\n",
        "no_of_rows_A = len(A)\n",
        "no_of_rows_B = len(B)\n",
        "\n",
        "no_of_columns_A = len(A[0])\n",
        "no_of_columns_B = len(B[0])\n",
        "\n",
        "# Construct an Empty Matrix to hold Product of A and B\n",
        "\n",
        "res = []\n",
        "for i in range(no_of_rows_A):\n",
        "    rows = []\n",
        "    for j in range(no_of_columns_B):\n",
        "        rows.append(0)\n",
        "    res.append(rows)\n",
        "\n",
        "print(res)"
      ],
      "metadata": {
        "colab": {
          "base_uri": "https://localhost:8080/"
        },
        "id": "AUW06FEBvK5u",
        "outputId": "c824db93-4ce2-4c9f-eb0f-e56ac5b4c871"
      },
      "execution_count": 19,
      "outputs": [
        {
          "output_type": "stream",
          "name": "stdout",
          "text": [
            "[[0, 0], [0, 0]]\n"
          ]
        }
      ]
    },
    {
      "cell_type": "markdown",
      "source": [
        "## **B) Check if product of A and B can be computed**\n",
        "\n",
        "-  No. of Columns in A = No. of Rows in B"
      ],
      "metadata": {
        "id": "S6df_g0Mycip"
      }
    },
    {
      "cell_type": "code",
      "source": [
        "# Check if Product A x B can be computed :\n",
        "\n",
        "if(no_of_columns_A == no_of_rows_B):\n",
        "  print(\"YES\")\n",
        "else:\n",
        "  print(\"NO\")"
      ],
      "metadata": {
        "colab": {
          "base_uri": "https://localhost:8080/"
        },
        "id": "0mTefeAzygVS",
        "outputId": "cd741f28-7d81-49e9-d086-28ef3256dca2"
      },
      "execution_count": 20,
      "outputs": [
        {
          "output_type": "stream",
          "name": "stdout",
          "text": [
            "NO\n"
          ]
        }
      ]
    },
    {
      "cell_type": "markdown",
      "source": [
        "## **C) Create a Transpose Matrix of B i.e  BT**"
      ],
      "metadata": {
        "id": "R24fhj1yzZ7S"
      }
    },
    {
      "cell_type": "code",
      "source": [
        "# One Line Code for Transpose in Python : https://www.geeksforgeeks.org/transpose-matrix-single-line-python/\n",
        "\n",
        "BT = [[B[j][i] for j in range(len(B))] for i in range(len(B[0]))]\n",
        "\n",
        "print(BT)"
      ],
      "metadata": {
        "colab": {
          "base_uri": "https://localhost:8080/"
        },
        "id": "TgqmQgQkvYnz",
        "outputId": "9117874c-7961-4dce-e716-f2a531b7f169"
      },
      "execution_count": 21,
      "outputs": [
        {
          "output_type": "stream",
          "name": "stdout",
          "text": [
            "[[1, 5, 7, 9], [4, 6, 8, 6]]\n"
          ]
        }
      ]
    },
    {
      "cell_type": "markdown",
      "source": [
        "## **D) Compute the Product of Matrix A and B :**\n",
        "\n",
        "\n",
        "- Initialize 2 variables i.e. (a & b = 0) to keep track of which row and column use from A and B.\n",
        "\n",
        "- Loop over A and BT (Transpose of BT) -\n",
        "\n",
        "  - For each list/ 1D array in Matrix, A :\n",
        "    - For each list/1D array in Transpose Matrix, BT (Transpose of B) :\n",
        "        - Compute the Product of Corresponding elements \n",
        "            \n",
        "                  i.e Product[i] = A[i]*B[i] \n",
        "        - Compute the Sum of these Products \n",
        "                  \n",
        "                  i.e Sum = Sum + Product[i]\n",
        "        - Put these values in the appropriate position in our Product Matrix, res\n",
        "\n",
        "                  i.e res[a][b] = Sum\n",
        "\n",
        "        - Update values of a and b accordingly :\n",
        "\n",
        "                  Normally, Update b = b + 1\n",
        "\n",
        "                  When b == no_of_columns_B - 1 , \n",
        "                          Update (a = a + 1) and  (b = 0)\n",
        "                          i.e Row No. 'a' is done, move on to another row\n",
        "        "
      ],
      "metadata": {
        "id": "64jLoy6x0WY7"
      }
    },
    {
      "cell_type": "code",
      "source": [
        "# Initialize a,b to keep track of which rows and column to consider for multiplication\n",
        "a = 0\n",
        "b = 0\n",
        "\n",
        "# Compute the Product of Matrices A and B:\n",
        "for x in A:\n",
        "    for y in BT:\n",
        "      sum = 0\n",
        "      for i,j in zip(x,y):\n",
        "          sum += i*j\n",
        "      res[a][b] = sum\n",
        "      if(b == no_of_columns_B-1):\n",
        "         a += 1\n",
        "         b = 0\n",
        "      else: \n",
        "         b += 1\n",
        "\n",
        "print(res)"
      ],
      "metadata": {
        "colab": {
          "base_uri": "https://localhost:8080/"
        },
        "id": "d9W6yc2MviGA",
        "outputId": "9af1f839-223a-4994-c4e1-ca3d37f5870b"
      },
      "execution_count": 22,
      "outputs": [
        {
          "output_type": "stream",
          "name": "stdout",
          "text": [
            "[[11, 16], [23, 36]]\n"
          ]
        }
      ]
    },
    {
      "cell_type": "code",
      "source": [
        "# Product of 2 Matrices :\n",
        "\n",
        "def matrix_mul(A, B):\n",
        "    # Compute the No. of Rows & Columns of Matrix, A and B\n",
        "    no_of_rows_A = len(A)\n",
        "    no_of_rows_B = len(B)\n",
        "\n",
        "    no_of_columns_A = len(A[0])\n",
        "    no_of_columns_B = len(B[0])\n",
        "\n",
        "    # Construct an Empty Matrix to hold Product of A and B\n",
        "    res = []\n",
        "    for i in range(no_of_rows_A):\n",
        "      rows = []\n",
        "      for j in range(no_of_columns_B):\n",
        "        rows.append(0)\n",
        "      res.append(rows)\n",
        "\n",
        "    # Check if Product A x B can be computed :\n",
        "\n",
        "    if(no_of_columns_A == no_of_rows_B):\n",
        "      pass\n",
        "    else:\n",
        "      return 'Not Possible'\n",
        "    \n",
        "    # One Line Code for Transpose in Python : https://www.geeksforgeeks.org/transpose-matrix-single-line-python/\n",
        "\n",
        "    BT = [[B[j][i] for j in range(len(B))] for i in range(len(B[0]))]\n",
        "\n",
        "    # Initialize a,b to keep track of which rows and column to consider for multiplication\n",
        "    a = 0\n",
        "    b = 0\n",
        "\n",
        "    # Compute the Product of Matrices A and B:\n",
        "    for x in A:\n",
        "      for y in BT:\n",
        "        sum = 0\n",
        "        for i,j in zip(x,y):\n",
        "          sum += i*j\n",
        "        res[a][b] = sum\n",
        "        if(b == no_of_columns_B-1):\n",
        "          a += 1\n",
        "          b = 0\n",
        "        else: \n",
        "         b += 1\n",
        "\n",
        "    # Return the Result (Product of A and B)\n",
        "    return res;\n",
        "\n",
        "# Call the Matrix Multiplication Function:\n",
        "\n",
        "matrix_mul(A, B)"
      ],
      "metadata": {
        "colab": {
          "base_uri": "https://localhost:8080/",
          "height": 35
        },
        "id": "Zk4qrdHqvECJ",
        "outputId": "6d0713ad-befc-4edc-8ca1-d5e062dfb86d"
      },
      "execution_count": 23,
      "outputs": [
        {
          "output_type": "execute_result",
          "data": {
            "text/plain": [
              "'Not Possible'"
            ],
            "application/vnd.google.colaboratory.intrinsic+json": {
              "type": "string"
            }
          },
          "metadata": {},
          "execution_count": 23
        }
      ]
    }
  ]
}